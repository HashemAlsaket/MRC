{
 "cells": [
  {
   "cell_type": "code",
   "execution_count": null,
   "id": "98251d80",
   "metadata": {},
   "outputs": [],
   "source": [
    "from datetime import datetime\n",
    "import pandas as pd\n",
    "from selenium import webdriver\n",
    "\n",
    "\n",
    "week_str = '20221120'\n",
    "# datetime object containing current date and time\n",
    "now = datetime.now()\n",
    "\n",
    "\n",
    "d_id_to_city = {'1078741': 'Chicago, IL', \n",
    "                'RunDMRC': 'Dallas, TX', \n",
    "                'lamrc': 'Los Angeles, CA',\n",
    "                'nycmrc': 'New York, NY',\n",
    "                '1020331': 'San Francisco, CA',\n",
    "                'detroitmrc': 'Detroit, MI',\n",
    "                'dcmuslimsrun': 'Washington, DC',\n",
    "                '1088734': 'Houston, TX',\n",
    "                'seattlemrc': 'Seattle, WA',\n",
    "                'sdmrc': 'San Diego, CA',\n",
    "                }\n",
    "\n",
    "d_club_data = {}\n",
    "for club in d_id_to_city:\n",
    "    driver = webdriver.Chrome()\n",
    "    location = d_id_to_city[club]\n",
    "    driver.get('https://www.strava.com/clubs/' + club + '/leaderboard')\n",
    "    \n",
    "    dfs = pd.read_html(driver.page_source)\n",
    "    \n",
    "    d_club_data[location] = dfs[-1]\n",
    "    print(location, len(dfs[-1]))\n",
    "    d_club_data[location]['timestamp'] = now\n",
    "    d_club_data[location]['location'] = location\n",
    "    \n",
    "    driver.close()\n"
   ]
  },
  {
   "cell_type": "code",
   "execution_count": null,
   "id": "adcfbcdf",
   "metadata": {},
   "outputs": [],
   "source": [
    "from math import floor\n",
    "\n",
    "# handle LA\n",
    "\n",
    "def fixtime(t):\n",
    "    if 'h' in t[0]:\n",
    "        return (float(t[0][:-1]) * 60) + float(t[1][:-1])\n",
    "    return float(t[0][:-1])\n",
    "\n",
    "d_club_data['Los Angeles, CA']['time_hold'] = d_club_data['Los Angeles, CA']['Time'].map(lambda x: x.split(\" \"))\n",
    "d_club_data['Los Angeles, CA']['time_hold'] = d_club_data['Los Angeles, CA']['time_hold'].map(lambda x: fixtime(x))\n",
    "d_club_data['Los Angeles, CA']['dist_LA'] = d_club_data['Los Angeles, CA']['Distance'].map(lambda x: float(x[:-3]))\n",
    "d_club_data['Los Angeles, CA'] = d_club_data['Los Angeles, CA'][d_club_data['Los Angeles, CA']['dist_LA'] > 0]\n",
    "d_club_data['Los Angeles, CA']['Avg. Pace'] = d_club_data['Los Angeles, CA']['time_hold'] / d_club_data['Los Angeles, CA']['dist_LA']\n",
    "d_club_data['Los Angeles, CA']['Avg. Pace'] = d_club_data['Los Angeles, CA']['Avg. Pace'].map(lambda x: str(floor(x)) + \":\" + str(int((x - floor(x)) * 60)) + \" /km\")\n",
    "d_club_data['Los Angeles, CA']"
   ]
  },
  {
   "cell_type": "code",
   "execution_count": null,
   "id": "8370222c",
   "metadata": {},
   "outputs": [],
   "source": [
    "df_all = pd.concat([d_club_data[k] for k in d_club_data])\n",
    "df_all = df_all[df_all['Distance'] != 'There are no results.']\n",
    "df_all['dist_float'] = df_all['Distance'].map(lambda x: float(x[:-3]))\n",
    "df_all['avg_pace_float'] = df_all['Avg. Pace'].map(lambda x: x[:-4].split(\":\"))\n",
    "df_all['avg_pace_km_min'] = df_all['avg_pace_float'].map(lambda x: float((60 * int(x[0])) + int(x[1])) / 60)\n",
    "df_all['time_spent'] = df_all['avg_pace_km_min'] * df_all['dist_float']\n",
    "\n",
    "df_all = df_all.sort_values(by=['dist_float'], ascending=False)\n",
    "df_all['National Rank'] = [x for x in range(1, len(df_all) + 1)]\n",
    "df_all['Location Rank'] = df_all['Rank']\n",
    "df_all['elevation_gain'] = df_all['Elev. Gain']\n",
    "df_all['elevation_gain'] = df_all['elevation_gain'].map(lambda x: ''.join(x.split(\",\")))\n",
    "df_all['elevation_gain'] = df_all['elevation_gain'].map(lambda x: float(x[:-2]) if x != '--' else 0)\n",
    "df_all.to_csv(\"rawdata/\" + \"raw_data_\" + week_str + \".csv\", index=False)\n",
    "\n",
    "df_fts = df_all[['Athlete', 'dist_float', 'avg_pace_km_min', 'elevation_gain', 'time_spent', 'location']].copy(deep=True)\n",
    "\n",
    "# dist rank\n",
    "df_fts = df_fts.sort_values(by=['dist_float'], ascending=False)\n",
    "df_fts['dist_rank'] = [x for x in range(1, len(df_fts) + 1)]\n",
    "\n",
    "# avg_pace_km_min rank\n",
    "df_fts = df_fts.sort_values(by=['avg_pace_km_min'], ascending=True)\n",
    "df_fts['pace_rank'] = [x for x in range(1, len(df_fts) + 1)]\n",
    "\n",
    "# elevation_gain rank\n",
    "df_fts = df_fts.sort_values(by=['elevation_gain'], ascending=False)\n",
    "df_fts['elevation_rank'] = [x for x in range(1, len(df_fts) + 1)]\n",
    "\n",
    "df_all = df_all[['National Rank', 'Athlete', 'Distance', 'Runs', 'Longest', 'elevation_gain', 'timestamp', 'location', 'dist_float', 'Location Rank']]"
   ]
  },
  {
   "cell_type": "code",
   "execution_count": null,
   "id": "ecfaf06d",
   "metadata": {},
   "outputs": [],
   "source": [
    "df_all.sample(5)"
   ]
  },
  {
   "cell_type": "code",
   "execution_count": null,
   "id": "73e979e4",
   "metadata": {},
   "outputs": [],
   "source": [
    "df_fts['National Rank'] = (df_fts['dist_rank'] + df_fts['pace_rank'] + df_fts['elevation_rank']) / 3\n",
    "df_fts = df_fts.sort_values(by=['National Rank'], ascending=True)\n",
    "df_fts['National Rank'] = [x for x in range(1, len(df_fts) + 1)]\n",
    "df_fts = df_fts[['National Rank', 'Athlete', 'dist_float', 'avg_pace_km_min', 'elevation_gain', 'time_spent', 'location']]\n",
    "df_fts"
   ]
  },
  {
   "cell_type": "code",
   "execution_count": null,
   "id": "e216befa",
   "metadata": {},
   "outputs": [],
   "source": [
    "df_fts.groupby(['location']).sum('dist_float')"
   ]
  },
  {
   "cell_type": "code",
   "execution_count": null,
   "id": "e460c9f8",
   "metadata": {},
   "outputs": [],
   "source": [
    "df_fts.to_csv('MRC_week_' + week_str + '.csv', index=False)"
   ]
  },
  {
   "cell_type": "code",
   "execution_count": null,
   "id": "2f537d88",
   "metadata": {},
   "outputs": [],
   "source": [
    "df_all.groupby(['location']).sum('dist_float')"
   ]
  },
  {
   "cell_type": "code",
   "execution_count": null,
   "id": "287a1ba4",
   "metadata": {},
   "outputs": [],
   "source": []
  }
 ],
 "metadata": {
  "kernelspec": {
   "display_name": "Python 3 (ipykernel)",
   "language": "python",
   "name": "python3"
  },
  "language_info": {
   "codemirror_mode": {
    "name": "ipython",
    "version": 3
   },
   "file_extension": ".py",
   "mimetype": "text/x-python",
   "name": "python",
   "nbconvert_exporter": "python",
   "pygments_lexer": "ipython3",
   "version": "3.10.6"
  }
 },
 "nbformat": 4,
 "nbformat_minor": 5
}
